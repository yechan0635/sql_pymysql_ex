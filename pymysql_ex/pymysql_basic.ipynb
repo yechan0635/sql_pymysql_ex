{
 "cells": [
  {
   "cell_type": "markdown",
   "id": "642e8822",
   "metadata": {},
   "source": [
    "# pymysql 실습\n",
    "- pip install pymysql"
   ]
  },
  {
   "cell_type": "code",
   "execution_count": 1,
   "id": "29328541",
   "metadata": {},
   "outputs": [],
   "source": [
    "import pymysql"
   ]
  },
  {
   "cell_type": "markdown",
   "id": "a911bf79",
   "metadata": {},
   "source": [
    "# 1. DB연결 \n",
    "- id, pw, host, port, db  "
   ]
  },
  {
   "cell_type": "code",
   "execution_count": 3,
   "id": "75b5a348",
   "metadata": {},
   "outputs": [],
   "source": [
    "# '127.0.0.1' = 'localhost'\n",
    "conn =pymysql.connect(\n",
    "    host='127.0.0.1',\n",
    "    port=3306,\n",
    "    user='paul',\n",
    "    password='1234',\n",
    "    db='csm_db',\n",
    "    charset='utf8'\n",
    ")"
   ]
  },
  {
   "cell_type": "markdown",
   "id": "052cbbbb",
   "metadata": {},
   "source": [
    "# 2. DB cursor 생성\n",
    "- 데이터 셔틀버스와 같음"
   ]
  },
  {
   "cell_type": "code",
   "execution_count": null,
   "id": "86b372de",
   "metadata": {},
   "outputs": [],
   "source": [
    "# 커서 객체 생성\n",
    "cur = conn.cursor()"
   ]
  },
  {
   "cell_type": "code",
   "execution_count": 15,
   "id": "ae02f3b6",
   "metadata": {},
   "outputs": [
    {
     "data": {
      "text/plain": [
       "0"
      ]
     },
     "execution_count": 15,
     "metadata": {},
     "output_type": "execute_result"
    }
   ],
   "source": [
    "# items 테이블이 존재하면 삭제\n",
    "cur.execute(\"drop table if exists items\")"
   ]
  },
  {
   "cell_type": "markdown",
   "id": "e51f331e",
   "metadata": {},
   "source": [
    "# 3. sql 명령 실행"
   ]
  },
  {
   "cell_type": "code",
   "execution_count": 16,
   "id": "51a5ef49",
   "metadata": {},
   "outputs": [
    {
     "data": {
      "text/plain": [
       "0"
      ]
     },
     "execution_count": 16,
     "metadata": {},
     "output_type": "execute_result"
    }
   ],
   "source": [
    "# items 테이블 만들기 : 테이블이 존재하지 않으면 생성\n",
    "create_sql = \"\"\"\n",
    "CREATE TABLE IF NOT EXISTS items(\n",
    "    id INTEGER PRIMARY KEY AUTO_INCREMENT,\n",
    "    code TEXT NOT NULL,\n",
    "    name TEXT NOT NULL,\n",
    "    price INTEGER NULL\n",
    ")\n",
    "\"\"\"\n",
    "cur.execute(create_sql)"
   ]
  },
  {
   "cell_type": "markdown",
   "id": "9810d226",
   "metadata": {},
   "source": [
    "## 데이터 입력(create)"
   ]
  },
  {
   "cell_type": "code",
   "execution_count": 17,
   "id": "d5951e2f",
   "metadata": {},
   "outputs": [
    {
     "data": {
      "text/plain": [
       "1"
      ]
     },
     "execution_count": 17,
     "metadata": {},
     "output_type": "execute_result"
    }
   ],
   "source": [
    "# 레코드 1개 테이블에 입력/추가하기\n",
    "insert_sql = \"\"\"\n",
    "INSERT INTO items(code, name, price)\n",
    "    VALUES(%s, %s, %s)\n",
    "\"\"\"\n",
    "cur.execute(insert_sql, ('A001', 'TV', 1000000))"
   ]
  },
  {
   "cell_type": "code",
   "execution_count": 18,
   "id": "d3eb3759",
   "metadata": {},
   "outputs": [],
   "source": [
    "# 변경사항 저장(db기준), 반드시 실행해야만 테이블에 반영됨.\n",
    "conn.commit()"
   ]
  },
  {
   "cell_type": "code",
   "execution_count": 19,
   "id": "b3dc91c1",
   "metadata": {},
   "outputs": [
    {
     "data": {
      "text/plain": [
       "3"
      ]
     },
     "execution_count": 19,
     "metadata": {},
     "output_type": "execute_result"
    }
   ],
   "source": [
    "# 여러개의 레코드를 한꺼번에 추가하기\n",
    "datas = (\n",
    "    ('A0002', '에어컨 30평형', 2000000),\n",
    "    ('A0003', '최신형 스마트폰', 1000000),\n",
    "    ('A0004', '최신형 노트북', 500000)\n",
    ")\n",
    "cur.executemany(insert_sql, datas)"
   ]
  },
  {
   "cell_type": "code",
   "execution_count": 20,
   "id": "534212cc",
   "metadata": {},
   "outputs": [],
   "source": [
    "# 변경사항 저장(db기준), 반드시 실행해야만 테이블에 반영됨.\n",
    "conn.commit()"
   ]
  },
  {
   "cell_type": "markdown",
   "id": "4749e48f",
   "metadata": {},
   "source": [
    "## 데이터 읽기(Read)"
   ]
  },
  {
   "cell_type": "code",
   "execution_count": 21,
   "id": "a211e6d3",
   "metadata": {},
   "outputs": [
    {
     "data": {
      "text/plain": [
       "4"
      ]
     },
     "execution_count": 21,
     "metadata": {},
     "output_type": "execute_result"
    }
   ],
   "source": [
    "# select 문\n",
    "select_sql1 = \"SELECT * FROM items\"\n",
    "cur.execute(select_sql1)"
   ]
  },
  {
   "cell_type": "code",
   "execution_count": null,
   "id": "7f6b6a21",
   "metadata": {},
   "outputs": [],
   "source": [
    "# DB에서 조회한 결과를 확인하기 위해서 fetch 수행\n",
    "rows = cur.fetchall()"
   ]
  },
  {
   "cell_type": "code",
   "execution_count": 14,
   "id": "46db746f",
   "metadata": {},
   "outputs": [
    {
     "data": {
      "text/plain": [
       "((1, 'A001', 'TV', 1000000),\n",
       " (2, 'A0002', '에어컨 30평형', 2000000),\n",
       " (3, 'A0003', '최신형 스마트폰', 1000000),\n",
       " (4, 'A0004', '최신형 노트북', 500000))"
      ]
     },
     "execution_count": 14,
     "metadata": {},
     "output_type": "execute_result"
    }
   ],
   "source": [
    "rows"
   ]
  },
  {
   "cell_type": "code",
   "execution_count": 24,
   "id": "dc841553",
   "metadata": {},
   "outputs": [
    {
     "name": "stdout",
     "output_type": "stream",
     "text": [
      "1 - ('A001', 'TV', 1000000)\n",
      "2 - ('A0002', '에어컨 30평형', 2000000)\n",
      "3 - ('A0003', '최신형 스마트폰', 1000000)\n",
      "4 - ('A0004', '최신형 노트북', 500000)\n"
     ]
    }
   ],
   "source": [
    "for idx, row in enumerate(rows):\n",
    "    print(f\"{idx+1} - {row[1:]}\")"
   ]
  },
  {
   "cell_type": "code",
   "execution_count": 25,
   "id": "919f8ed7",
   "metadata": {},
   "outputs": [
    {
     "data": {
      "text/plain": [
       "3"
      ]
     },
     "execution_count": 25,
     "metadata": {},
     "output_type": "execute_result"
    }
   ],
   "source": [
    "# select 문, 2개의 레코드\n",
    "select_sql1 = \"SELECT * FROM items LIMIT 3\"\n",
    "cur.execute(select_sql1)"
   ]
  },
  {
   "cell_type": "code",
   "execution_count": 26,
   "id": "577bf996",
   "metadata": {},
   "outputs": [
    {
     "data": {
      "text/plain": [
       "((1, 'A001', 'TV', 1000000),\n",
       " (2, 'A0002', '에어컨 30평형', 2000000),\n",
       " (3, 'A0003', '최신형 스마트폰', 1000000))"
      ]
     },
     "execution_count": 26,
     "metadata": {},
     "output_type": "execute_result"
    }
   ],
   "source": [
    "rows = cur.fetchall()\n",
    "rows"
   ]
  },
  {
   "cell_type": "code",
   "execution_count": null,
   "id": "33e8d07a",
   "metadata": {},
   "outputs": [
    {
     "data": {
      "text/plain": [
       "()"
      ]
     },
     "execution_count": 27,
     "metadata": {},
     "output_type": "execute_result"
    }
   ],
   "source": [
    "# fetchall 한번 수행하면 데이터는 비워짐, \n",
    "#위에서 fetchall() 실행했기 때문에 빈결과가 나옴\n",
    "cur.fetchall()"
   ]
  },
  {
   "cell_type": "markdown",
   "id": "0deddc50",
   "metadata": {},
   "source": [
    "## 수정(Update)"
   ]
  },
  {
   "cell_type": "code",
   "execution_count": 28,
   "id": "20d619bc",
   "metadata": {},
   "outputs": [
    {
     "data": {
      "text/plain": [
       "1"
      ]
     },
     "execution_count": 28,
     "metadata": {},
     "output_type": "execute_result"
    }
   ],
   "source": [
    "update_sql = \"\"\"\n",
    "UPDATE items\n",
    "SET price = %s\n",
    "WHERE code = %s\n",
    "\"\"\"\n",
    "\n",
    "price = 1500000\n",
    "code = 'A0001'\n",
    "cur.execute(update_sql, (price, code))"
   ]
  },
  {
   "cell_type": "code",
   "execution_count": 29,
   "id": "103fb2c6",
   "metadata": {},
   "outputs": [],
   "source": [
    "conn.commit()"
   ]
  },
  {
   "cell_type": "code",
   "execution_count": null,
   "id": "ab0dc460",
   "metadata": {},
   "outputs": [
    {
     "data": {
      "text/plain": [
       "1"
      ]
     },
     "execution_count": 30,
     "metadata": {},
     "output_type": "execute_result"
    }
   ],
   "source": [
    "# id = 2인 레코드의 price -> 2,500,000 변경\n",
    "update_sql = \"\"\"\n",
    "UPDATE items\n",
    "SET price = %s\n",
    "WHERE id = %s\n",
    "\"\"\"\n",
    "\n",
    "price = 2500000\n",
    "id = 2\n",
    "cur.execute(update_sql, (price, id))"
   ]
  },
  {
   "cell_type": "code",
   "execution_count": 31,
   "id": "d6a64d9f",
   "metadata": {},
   "outputs": [],
   "source": [
    "conn.commit()"
   ]
  },
  {
   "cell_type": "markdown",
   "id": "61661b27",
   "metadata": {},
   "source": [
    "## 데이터 삭제(Delete)"
   ]
  },
  {
   "cell_type": "code",
   "execution_count": null,
   "id": "bf165def",
   "metadata": {},
   "outputs": [
    {
     "data": {
      "text/plain": [
       "1"
      ]
     },
     "execution_count": 32,
     "metadata": {},
     "output_type": "execute_result"
    }
   ],
   "source": [
    "delete_sql =\"\"\"\n",
    "Delete From items\n",
    "WHERE code = %s\n",
    "\"\"\"\n",
    "cur.execute(delete_sql, 'A0003')  # %s 1개일 경우, 튜플 생략 가능"
   ]
  },
  {
   "cell_type": "code",
   "execution_count": 33,
   "id": "3c217a18",
   "metadata": {},
   "outputs": [],
   "source": [
    "conn.commit()"
   ]
  },
  {
   "cell_type": "markdown",
   "id": "ec0372af",
   "metadata": {},
   "source": [
    "# 4. commit, rollback 실행\n",
    "- insert, update, delete sql을 실행했을 경우는 반드시 실행해야 DB에 반영됨"
   ]
  },
  {
   "cell_type": "code",
   "execution_count": 34,
   "id": "4c1ed167",
   "metadata": {},
   "outputs": [],
   "source": [
    "# 데이터 생성하기\n",
    "# code A0005, name 로봇청소기, price 1000000\n",
    "insert_sql = \"\"\"\n",
    "INSERT INTO items(code, name, price)\n",
    "    VALUES(%s, %s, %s)\n",
    "\"\"\"\n",
    "cur.execute(insert_sql, ('A0005', '로봇청소기', 1000000))\n",
    "conn.commit()"
   ]
  },
  {
   "cell_type": "code",
   "execution_count": 38,
   "id": "aba0597a",
   "metadata": {},
   "outputs": [
    {
     "data": {
      "text/plain": [
       "1"
      ]
     },
     "execution_count": 38,
     "metadata": {},
     "output_type": "execute_result"
    }
   ],
   "source": [
    "insert_sql = \"\"\"\n",
    "INSERT INTO items(code, name, price)\n",
    "    VALUES(%s, %s, %s)\n",
    "\"\"\"\n",
    "cur.execute(insert_sql, ('A0006', '스타일러', 3500000))"
   ]
  },
  {
   "cell_type": "code",
   "execution_count": null,
   "id": "2b134ed2",
   "metadata": {},
   "outputs": [],
   "source": [
    "# DB에 가장 마지막에 반영한 이후 시점까지 되돌리기\n",
    "conn.rollback()"
   ]
  },
  {
   "cell_type": "code",
   "execution_count": 39,
   "id": "25dc4361",
   "metadata": {},
   "outputs": [
    {
     "data": {
      "text/plain": [
       "((1, 'A0001', 'TV', 1500000),\n",
       " (2, 'A0002', '에어컨 30평형', 2500000),\n",
       " (4, 'A0004', '최신형 노트북', 500000),\n",
       " (5, 'A0005', '로봇청소기', 1000000),\n",
       " (7, 'A0006', '스타일러', 3500000))"
      ]
     },
     "execution_count": 39,
     "metadata": {},
     "output_type": "execute_result"
    }
   ],
   "source": [
    "# 조회\n",
    "select_sql1 = \"SELECT * FROM items\"\n",
    "cur.execute(select_sql1)\n",
    "rows = cur.fetchall()\n",
    "rows"
   ]
  },
  {
   "cell_type": "markdown",
   "id": "f0be5955",
   "metadata": {},
   "source": [
    "# 5. DB close()\n",
    "- 데이터 처리를 위해 연결한 DB 연결 자원을 반환함."
   ]
  },
  {
   "cell_type": "code",
   "execution_count": null,
   "id": "3fa18e25",
   "metadata": {},
   "outputs": [],
   "source": [
    "conn.close()"
   ]
  }
 ],
 "metadata": {
  "kernelspec": {
   "display_name": "llm_env",
   "language": "python",
   "name": "python3"
  },
  "language_info": {
   "codemirror_mode": {
    "name": "ipython",
    "version": 3
   },
   "file_extension": ".py",
   "mimetype": "text/x-python",
   "name": "python",
   "nbconvert_exporter": "python",
   "pygments_lexer": "ipython3",
   "version": "3.10.19"
  }
 },
 "nbformat": 4,
 "nbformat_minor": 5
}
